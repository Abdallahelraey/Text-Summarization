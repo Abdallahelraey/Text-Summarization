{
 "cells": [
  {
   "cell_type": "code",
   "execution_count": 1,
   "metadata": {},
   "outputs": [
    {
     "data": {
      "text/plain": [
       "'d:\\\\AI\\\\NLP\\\\HandsOn\\\\Text Summarization'"
      ]
     },
     "execution_count": 1,
     "metadata": {},
     "output_type": "execute_result"
    }
   ],
   "source": [
    "import os\n",
    "os.chdir(\"../\")\n",
    "%pwd"
   ]
  },
  {
   "cell_type": "code",
   "execution_count": 2,
   "metadata": {},
   "outputs": [],
   "source": [
    "from dataclasses import dataclass\n",
    "from pathlib import Path\n",
    "from typing import List\n",
    "\n",
    "@dataclass(frozen=True)\n",
    "class DataValidationConfig:\n",
    "    root_dir: Path\n",
    "    STATUS_FILE: str\n",
    "    ALL_REQUIRED_FILES: list\n",
    "    required_columns: List[str]\n",
    "    unzip_dir: Path"
   ]
  },
  {
   "cell_type": "code",
   "execution_count": 3,
   "metadata": {},
   "outputs": [],
   "source": [
    "from TextSummarizer.constants import *\n",
    "from TextSummarizer.utils.file_utils import *\n",
    "from TextSummarizer.utils.config_utils import *"
   ]
  },
  {
   "cell_type": "code",
   "execution_count": 4,
   "metadata": {},
   "outputs": [],
   "source": [
    "\n",
    "class ConfigurationManager:\n",
    "    def __init__(\n",
    "        self,\n",
    "        config_filepath = CONFIG_FILE_PATH,\n",
    "        params_filepath = PARAMS_FILE_PATH):\n",
    "\n",
    "        self.config = read_yaml(config_filepath)\n",
    "        self.params = read_yaml(params_filepath)\n",
    "\n",
    "        create_directories([self.config.artifacts_root])\n",
    "\n",
    "\n",
    "    \n",
    "    def get_data_validation_config(self) -> DataValidationConfig:\n",
    "        config = self.config.data_validation\n",
    "\n",
    "        create_directories([config.root_dir])\n",
    "\n",
    "        data_validation_config = DataValidationConfig(\n",
    "            root_dir=config.root_dir,\n",
    "            STATUS_FILE=config.STATUS_FILE,\n",
    "            ALL_REQUIRED_FILES=config.ALL_REQUIRED_FILES,\n",
    "            required_columns=config.required_columns,\n",
    "            unzip_dir=config.unzip_dir\n",
    "        )\n",
    "\n",
    "        return data_validation_config"
   ]
  },
  {
   "cell_type": "code",
   "execution_count": 5,
   "metadata": {},
   "outputs": [],
   "source": [
    "import os\n",
    "from TextSummarizer.logging import logger\n",
    "import pandas as pd\n",
    "from datetime import datetime\n",
    "import json"
   ]
  },
  {
   "cell_type": "code",
   "execution_count": 8,
   "metadata": {},
   "outputs": [],
   "source": [
    "class DataValidation:\n",
    "   def __init__(self, config: DataValidationConfig):\n",
    "       self.config = config\n",
    "        # Clear status file at initialization\n",
    "       open(self.config.STATUS_FILE, 'w').close()\n",
    "\n",
    "   def validate_all_files_exist(self) -> dict:\n",
    "        try:\n",
    "            all_files = os.listdir(os.path.join(\"artifacts\", \"data_ingestion\"))\n",
    "            \n",
    "            found_files = {required_file: required_file in all_files \n",
    "                            for required_file in self.config.ALL_REQUIRED_FILES}\n",
    "            \n",
    "            status = {\n",
    "                \"validation_passed\": all(found_files.values()),\n",
    "                \"required_files\": list(self.config.ALL_REQUIRED_FILES),\n",
    "                \"files_found\": found_files,\n",
    "                \"timestamp\": datetime.now().isoformat()\n",
    "            }\n",
    "            logger.info(f\"Validated file existence. Status: {status['validation_passed']}\")\n",
    "            with open(self.config.STATUS_FILE, 'a') as f:\n",
    "                json.dump(status, f, indent=4)\n",
    "                f.write('\\n')\n",
    "                \n",
    "            return status\n",
    "            \n",
    "        except Exception as e:\n",
    "            raise e\n",
    "\n",
    "   def validate_all_required_fields_exist(self) -> dict:\n",
    "       try:\n",
    "           found_in_files = {col: [] for col in self.config.required_columns}\n",
    "           \n",
    "           for file in self.config.ALL_REQUIRED_FILES:\n",
    "               file_path = os.path.join(self.config.unzip_dir, file)\n",
    "               df = pd.read_csv(file_path)\n",
    "               for col in self.config.required_columns:\n",
    "                   if col in df.columns:\n",
    "                       found_in_files[col].append(file)\n",
    "\n",
    "           missing_columns = {col: found_in_files[col] for col in found_in_files \n",
    "                            if not found_in_files[col]}\n",
    "\n",
    "           status = {\n",
    "               \"validation_passed\": len(missing_columns) == 0,\n",
    "               \"required_columns\": self.config.required_columns,\n",
    "               \"columns_found_in\": found_in_files,\n",
    "               \"missing_columns\": missing_columns,\n",
    "               \"timestamp\": datetime.now().isoformat()\n",
    "           }\n",
    "           logger.info(f\"Validated required fields existence. Status: {status['validation_passed']}\")\n",
    "           with open(self.config.STATUS_FILE, 'a') as f:\n",
    "               json.dump(status, f, indent=4)\n",
    "               f.write('\\n')\n",
    "           return status\n",
    "\n",
    "       except Exception as e:\n",
    "           raise e\n",
    "\n",
    "   def validate(self) -> bool:\n",
    "       files_status = self.validate_all_files_exist()\n",
    "       if not files_status[\"validation_passed\"]:\n",
    "           return False\n",
    "           \n",
    "       fields_status = self.validate_all_required_fields_exist()\n",
    "       return fields_status[\"validation_passed\"]"
   ]
  },
  {
   "cell_type": "code",
   "execution_count": 9,
   "metadata": {},
   "outputs": [
    {
     "name": "stdout",
     "output_type": "stream",
     "text": [
      "[2024-12-06 20:11:35,644: INFO: config_utils: yaml file: config\\config.yaml loaded successfully]\n",
      "[2024-12-06 20:11:35,646: INFO: config_utils: yaml file: params.yaml loaded successfully]\n",
      "[2024-12-06 20:11:35,647: INFO: file_utils: created directory at: artifacts]\n",
      "[2024-12-06 20:11:35,648: INFO: file_utils: created directory at: artifacts/data_validation]\n",
      "[2024-12-06 20:11:35,649: INFO: 3474559529: Validated file existence. Status: True]\n",
      "[2024-12-06 20:11:36,085: INFO: 3474559529: Validated required fields existence. Status: True]\n"
     ]
    }
   ],
   "source": [
    "try:\n",
    "    config = ConfigurationManager()\n",
    "    data_validation_config = config.get_data_validation_config()\n",
    "    data_validation = DataValidation(config=data_validation_config)\n",
    "    data_validation.validate_all_files_exist()\n",
    "    data_validation.validate_all_required_fields_exist()\n",
    "except Exception as e:\n",
    "    raise e"
   ]
  },
  {
   "cell_type": "code",
   "execution_count": null,
   "metadata": {},
   "outputs": [],
   "source": []
  }
 ],
 "metadata": {
  "kernelspec": {
   "display_name": "textsummarizer",
   "language": "python",
   "name": "python3"
  },
  "language_info": {
   "codemirror_mode": {
    "name": "ipython",
    "version": 3
   },
   "file_extension": ".py",
   "mimetype": "text/x-python",
   "name": "python",
   "nbconvert_exporter": "python",
   "pygments_lexer": "ipython3",
   "version": "3.11.0"
  }
 },
 "nbformat": 4,
 "nbformat_minor": 2
}
