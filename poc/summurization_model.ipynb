{
 "cells": [
  {
   "cell_type": "code",
   "execution_count": null,
   "metadata": {},
   "outputs": [],
   "source": [
    "import os\n",
    "os.chdir(\"../\")\n",
    "%pwd"
   ]
  },
  {
   "cell_type": "code",
   "execution_count": null,
   "metadata": {},
   "outputs": [],
   "source": [
    "from dataclasses import dataclass\n",
    "from pathlib import Path\n",
    "\n",
    "\n",
    "@dataclass(frozen=True)\n",
    "class SummarizationModelConfig:\n",
    "    root_dir: Path\n",
    "    data_path: Path\n",
    "    tokenizer_name: Path"
   ]
  },
  {
   "cell_type": "code",
   "execution_count": 1,
   "metadata": {},
   "outputs": [],
   "source": [
    "from TextSummarizer.constants import *\n",
    "from TextSummarizer.utils.file_utils import *\n",
    "from TextSummarizer.utils.config_utils import *\n",
    "from TextSummarizer.utils.lib_utils import *"
   ]
  },
  {
   "cell_type": "code",
   "execution_count": null,
   "metadata": {},
   "outputs": [],
   "source": [
    "class ConfigurationManager:\n",
    "    def __init__(\n",
    "        self,\n",
    "        config_filepath = CONFIG_FILE_PATH,\n",
    "        params_filepath = PARAMS_FILE_PATH):\n",
    "\n",
    "        self.config = read_yaml(config_filepath)\n",
    "        self.params = read_yaml(params_filepath)\n",
    "\n",
    "        create_directories([self.config.artifacts_root])\n",
    "\n",
    "\n",
    "    \n",
    "    def get_data_transformation_config(self) -> SummarizationModelConfig:\n",
    "        config = self.config.data_transformation\n",
    "\n",
    "        create_directories([config.root_dir])\n",
    "\n",
    "        data_transformation_config = SummarizationModelConfig(\n",
    "            root_dir=config.root_dir,\n",
    "            data_path=config.data_path,\n",
    "            tokenizer_name = config.tokenizer_name\n",
    "        )\n",
    "\n",
    "        return data_transformation_config"
   ]
  },
  {
   "cell_type": "code",
   "execution_count": null,
   "metadata": {},
   "outputs": [],
   "source": [
    "from transformers import AutoTokenizer, AutoModelForSeq2SeqGeneration\n",
    "import torch"
   ]
  },
  {
   "cell_type": "code",
   "execution_count": null,
   "metadata": {},
   "outputs": [],
   "source": [
    "class SummarizationModel:\n",
    "    def __init__(self,\n",
    "                    config: SummarizationModelConfig)\n",
    "        logger.info(\"Initializing DataStandardization with config\")\n",
    "        self.config = config\n",
    "        self.model_name = self.config.tokenizer_name\n",
    "        pass\n",
    "    \"\"\"\n",
    "    Handles all model-related operations and text generation.\n",
    "    \"\"\"\n",
    "    def __init__(self, model_name=\"facebook/bart-large-cnn\"):\n",
    "        \"\"\"\n",
    "        Initialize the model and tokenizer handler.\n",
    "        Args:\n",
    "            model_name (str): Name of the pre-trained model to use\n",
    "        \"\"\"\n",
    "        self.model = AutoModelForSeq2SeqGeneration.from_pretrained(model_name)\n",
    "        self.tokenizer_handler = TextTokenizer(model_name)\n",
    "        \n",
    "    def generate_summary(self, text, max_summary_length=150):\n",
    "        \"\"\"\n",
    "        Generate summary from input text.\n",
    "        Args:\n",
    "            text (str): Input text to summarize\n",
    "            max_summary_length (int): Maximum length of the summary\n",
    "        Returns:\n",
    "            str: Generated summary\n",
    "        \"\"\"\n",
    "        # Get tokenized input\n",
    "        inputs = self.tokenizer_handler.tokenize_text(text)\n",
    "        \n",
    "        # Generate summary\n",
    "        summary_ids = self.model.generate(\n",
    "            inputs[\"input_ids\"],\n",
    "            max_length=max_summary_length,\n",
    "            min_length=40,\n",
    "            length_penalty=2.0,\n",
    "            num_beams=4,\n",
    "            early_stopping=True\n",
    "        )\n",
    "        \n",
    "        # Decode summary\n",
    "        return self.tokenizer_handler.decode_tokens(summary_ids[0])"
   ]
  },
  {
   "cell_type": "code",
   "execution_count": null,
   "metadata": {},
   "outputs": [],
   "source": [
    "# Example usage\n",
    "def main():\n",
    "    # Initialize the model\n",
    "    summarizer = SummarizationModel()\n",
    "    \n",
    "    # Example text\n",
    "    text = \"\"\"\n",
    "    Artificial intelligence has transformed various sectors of society, from healthcare \n",
    "    to transportation. Machine learning algorithms now power everything from \n",
    "    recommendation systems to autonomous vehicles. Despite these advances, \n",
    "    challenges remain regarding AI ethics and bias.\n",
    "    \"\"\"\n",
    "    \n",
    "    # Get tokenized input (if needed for inspection)\n",
    "    tokens = summarizer.tokenizer_handler.tokenize_text(text)\n",
    "    print(\"Tokenized input shape:\", tokens[\"input_ids\"].shape)\n",
    "    \n",
    "    # Generate summary\n",
    "    summary = summarizer.generate_summary(text)\n",
    "    print(\"\\nGenerated summary:\", summary)\n",
    "    \n",
    "    # Get vocabulary sample (if needed)\n",
    "    vocab = summarizer.tokenizer_handler.get_vocabulary()\n",
    "    print(\"\\nVocabulary size:\", len(vocab))\n",
    "\n",
    "if __name__ == \"__main__\":\n",
    "    main()"
   ]
  },
  {
   "cell_type": "code",
   "execution_count": null,
   "metadata": {},
   "outputs": [],
   "source": []
  },
  {
   "cell_type": "code",
   "execution_count": null,
   "metadata": {},
   "outputs": [],
   "source": []
  },
  {
   "cell_type": "code",
   "execution_count": null,
   "metadata": {},
   "outputs": [],
   "source": [
    "try:\n",
    "    config = ConfigurationManager()\n",
    "    data_transformation_config = config.get_data_transformation_config()\n",
    "    data_transformation = DataTransformation(config=data_transformation_config)\n",
    "    data_transformation.convert()\n",
    "except Exception as e:\n",
    "    raise e"
   ]
  },
  {
   "cell_type": "code",
   "execution_count": null,
   "metadata": {},
   "outputs": [],
   "source": []
  },
  {
   "cell_type": "code",
   "execution_count": null,
   "metadata": {},
   "outputs": [],
   "source": []
  }
 ],
 "metadata": {
  "kernelspec": {
   "display_name": "textsummarizer-env",
   "language": "python",
   "name": "python3"
  },
  "language_info": {
   "codemirror_mode": {
    "name": "ipython",
    "version": 3
   },
   "file_extension": ".py",
   "mimetype": "text/x-python",
   "name": "python",
   "nbconvert_exporter": "python",
   "pygments_lexer": "ipython3",
   "version": "3.11.0"
  }
 },
 "nbformat": 4,
 "nbformat_minor": 2
}
